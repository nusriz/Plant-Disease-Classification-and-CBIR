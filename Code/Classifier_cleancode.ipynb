{
  "nbformat": 4,
  "nbformat_minor": 0,
  "metadata": {
    "colab": {
      "name": "Classifier.ipynb",
      "provenance": [],
      "collapsed_sections": []
    },
    "kernelspec": {
      "name": "python3",
      "display_name": "Python 3"
    }
  },
  "cells": [
    {
      "cell_type": "code",
      "metadata": {
        "id": "7lxkJt0A3uuo",
        "colab_type": "code",
        "outputId": "4f5f2448-e306-4706-fb4c-5d49cfbaf5b3",
        "colab": {
          "base_uri": "https://localhost:8080/",
          "height": 54
        }
      },
      "source": [
        "from google.colab import drive\n",
        "drive.mount('/content/drive')"
      ],
      "execution_count": 0,
      "outputs": [
        {
          "output_type": "stream",
          "text": [
            "Drive already mounted at /content/drive; to attempt to forcibly remount, call drive.mount(\"/content/drive\", force_remount=True).\n"
          ],
          "name": "stdout"
        }
      ]
    },
    {
      "cell_type": "code",
      "metadata": {
        "id": "aTl9Y-FI4G5B",
        "colab_type": "code",
        "outputId": "5c6dddc1-c4d8-40a9-e389-ddb0927f23d4",
        "colab": {
          "base_uri": "https://localhost:8080/",
          "height": 136
        }
      },
      "source": [
        "import numpy as np\n",
        "import os\n",
        "from numpy import savetxt,loadtxt\n",
        "\n",
        "################# Files  ##########################\n",
        "# 1: bgr hist\n",
        "# 2: hsv hist\n",
        "# 3: shape\n",
        "# 4: gray_clbp_S_M\n",
        "# 5: hue_clbp_S_M\n",
        "\n",
        "\n",
        "################# Constants #######################\n",
        "B_SPOTS = -2\n",
        "HEALTHY = -1\n",
        "L_BLIGHT = 0\n",
        "T_MOSAIC = 1\n",
        "S_SPOTS = 2 \n",
        "diseases = ['bspot','healthy','lblight','mosaic','sspot']\n",
        "label_dict = {'bspot':B_SPOTS,'healthy':HEALTHY,'lblight':L_BLIGHT,'mosaic':T_MOSAIC,'sspot':S_SPOTS}\n",
        "files = [1,2,3,4,5]\n",
        "\n",
        "\n",
        "################ Variables #########################\n",
        "X = []\n",
        "Y = []\n",
        "y = []\n",
        "\n",
        "\n",
        "\n",
        "\n",
        "################ Feature Vector ####################\n",
        "path = 'drive/My Drive/Final Year Project/Features'\n",
        "flag = 0\n",
        "flag2 = 0\n",
        "for disease in diseases:\n",
        "  read_path = os.path.join(path,disease)\n",
        "  for file in files:\n",
        "    f_name = str(file)+'.csv'\n",
        "    file_path = os.path.join(read_path,f_name)\n",
        "\n",
        "    if flag == 0:\n",
        "      data = loadtxt(file_path,delimiter = ',')\n",
        "      data = np.asarray(data)\n",
        "    \n",
        "    if len(files) >=2 and flag == 1:\n",
        "      data1 = loadtxt(file_path,delimiter = ',')\n",
        "      data1 = np.asarray(data1)\n",
        "      data = np.concatenate((data,data1),axis = 1)\n",
        "\n",
        "    \n",
        "    \n",
        "    flag = 1\n",
        "  print(data.shape)\n",
        "  flag = 0 \n",
        "  temp = np.zeros(60)\n",
        "  temp.fill(label_dict[disease])\n",
        "  if flag2 == 0:\n",
        "    feature_data = data\n",
        "    label = temp\n",
        "  if flag2 == 1:\n",
        "    feature_data = np.concatenate((feature_data,data))\n",
        "    label = np.concatenate((label,temp))\n",
        "  flag2 = 1  \n",
        "\n",
        "features = feature_data\n",
        "print(feature_data.shape)\n",
        "print(label.shape)  "
      ],
      "execution_count": 0,
      "outputs": [
        {
          "output_type": "stream",
          "text": [
            "(60, 1755)\n",
            "(60, 1755)\n",
            "(60, 1755)\n",
            "(60, 1755)\n",
            "(60, 1755)\n",
            "(300, 1755)\n",
            "(300,)\n"
          ],
          "name": "stdout"
        }
      ]
    },
    {
      "cell_type": "code",
      "metadata": {
        "id": "K7vKB-Do8isB",
        "colab_type": "code",
        "colab": {}
      },
      "source": [
        "########################## Feature Scaling ###################################\n",
        "from sklearn.preprocessing import StandardScaler\n",
        "from sklearn.model_selection import train_test_split\n",
        "X_train, X_test, y_train, y_test = train_test_split(features, label, test_size=0.3, random_state=20,stratify = label)\n",
        "\n",
        "scaler = StandardScaler()\n",
        "X_train = scaler.fit_transform(X_train)\n",
        "X_test = scaler.fit_transform(X_test)\n"
      ],
      "execution_count": 0,
      "outputs": []
    },
    {
      "cell_type": "code",
      "metadata": {
        "id": "odnL0Lo-43Tg",
        "colab_type": "code",
        "outputId": "b84188f8-b438-43e8-8737-8508f1073a61",
        "colab": {
          "base_uri": "https://localhost:8080/",
          "height": 459
        }
      },
      "source": [
        "########################### Hyperparamter Tuning ################################# \n",
        "from sklearn import svm\n",
        "from sklearn.model_selection import GridSearchCV \n",
        "\n",
        "parameters = [{'kernel': ['rbf'], 'gamma': [1e-3, 1e-4],\n",
        "                     'C': [1, 10, 100, 1000]},\n",
        "                    {'kernel': ['poly'], 'C': [ 1,10, 100, 1000,],'degree':[1,2,3]},\n",
        "             {'kernel': ['linear'], 'C': [ 1,10, 100, 1000,]} ]\n",
        "svc = svm.SVC()\n",
        "clf = GridSearchCV(svc,parameters,scoring='accuracy')\n",
        "clf.fit(X_train,y_train)\n",
        "print(clf.best_score_)\n",
        "print(clf.best_params_)\n",
        "\n",
        "means = clf.cv_results_['mean_test_score']\n",
        "stds = clf.cv_results_['std_test_score']\n",
        "for mean, std, params in zip(means, stds, clf.cv_results_['params']):\n",
        "  print(\"%0.3f (+/-%0.03f) for %r\"% (mean, std * 2, params))"
      ],
      "execution_count": 0,
      "outputs": [
        {
          "output_type": "stream",
          "text": [
            "0.976190476190476\n",
            "{'C': 10, 'degree': 1, 'kernel': 'poly'}\n",
            "0.938 (+/-0.065) for {'C': 1, 'gamma': 0.001, 'kernel': 'rbf'}\n",
            "0.919 (+/-0.049) for {'C': 1, 'gamma': 0.0001, 'kernel': 'rbf'}\n",
            "0.938 (+/-0.077) for {'C': 10, 'gamma': 0.001, 'kernel': 'rbf'}\n",
            "0.971 (+/-0.076) for {'C': 10, 'gamma': 0.0001, 'kernel': 'rbf'}\n",
            "0.938 (+/-0.077) for {'C': 100, 'gamma': 0.001, 'kernel': 'rbf'}\n",
            "0.971 (+/-0.056) for {'C': 100, 'gamma': 0.0001, 'kernel': 'rbf'}\n",
            "0.938 (+/-0.077) for {'C': 1000, 'gamma': 0.001, 'kernel': 'rbf'}\n",
            "0.971 (+/-0.056) for {'C': 1000, 'gamma': 0.0001, 'kernel': 'rbf'}\n",
            "0.957 (+/-0.056) for {'C': 1, 'degree': 1, 'kernel': 'poly'}\n",
            "0.781 (+/-0.082) for {'C': 1, 'degree': 2, 'kernel': 'poly'}\n",
            "0.710 (+/-0.047) for {'C': 1, 'degree': 3, 'kernel': 'poly'}\n",
            "0.976 (+/-0.043) for {'C': 10, 'degree': 1, 'kernel': 'poly'}\n",
            "0.900 (+/-0.139) for {'C': 10, 'degree': 2, 'kernel': 'poly'}\n",
            "0.829 (+/-0.070) for {'C': 10, 'degree': 3, 'kernel': 'poly'}\n",
            "0.976 (+/-0.043) for {'C': 100, 'degree': 1, 'kernel': 'poly'}\n",
            "0.919 (+/-0.107) for {'C': 100, 'degree': 2, 'kernel': 'poly'}\n",
            "0.876 (+/-0.114) for {'C': 100, 'degree': 3, 'kernel': 'poly'}\n",
            "0.976 (+/-0.043) for {'C': 1000, 'degree': 1, 'kernel': 'poly'}\n",
            "0.919 (+/-0.107) for {'C': 1000, 'degree': 2, 'kernel': 'poly'}\n",
            "0.881 (+/-0.120) for {'C': 1000, 'degree': 3, 'kernel': 'poly'}\n",
            "0.976 (+/-0.043) for {'C': 1, 'kernel': 'linear'}\n",
            "0.976 (+/-0.043) for {'C': 10, 'kernel': 'linear'}\n",
            "0.976 (+/-0.043) for {'C': 100, 'kernel': 'linear'}\n",
            "0.976 (+/-0.043) for {'C': 1000, 'kernel': 'linear'}\n"
          ],
          "name": "stdout"
        }
      ]
    },
    {
      "cell_type": "code",
      "metadata": {
        "id": "LFSvfqfZQC9O",
        "colab_type": "code",
        "outputId": "0bcca4d6-355c-4680-8443-5aaa0557676c",
        "colab": {
          "base_uri": "https://localhost:8080/",
          "height": 85
        }
      },
      "source": [
        "#################### K Fold Validated Accuracy ########################\n",
        "from sklearn.model_selection import cross_val_score,StratifiedShuffleSplit,cross_validate\n",
        "from sklearn.pipeline import make_pipeline\n",
        "\n",
        "cv = StratifiedShuffleSplit(n_splits = 5, test_size = 0.3,random_state = 2)\n",
        "\n",
        "classifier = svm.SVC(kernel = 'linear')\n",
        "\n",
        "clf = make_pipeline(StandardScaler(),classifier)\n",
        "score  = cross_val_score(clf,features,label,cv = cv)\n",
        "print(score)\n",
        "print(score.mean())\n",
        "\n",
        "cv_results = cross_validate(clf, features, label,cv = 5 )\n",
        "print(cv_results['test_score'])\n",
        "print(cv_results['test_score'].mean())"
      ],
      "execution_count": 0,
      "outputs": [
        {
          "output_type": "stream",
          "text": [
            "[0.97777778 0.97777778 0.97777778 0.98888889 0.94444444]\n",
            "0.9733333333333333\n",
            "[0.95       0.96666667 0.98333333 0.96666667 1.        ]\n",
            "0.9733333333333334\n"
          ],
          "name": "stdout"
        }
      ]
    },
    {
      "cell_type": "code",
      "metadata": {
        "id": "k-0f-Hx1T5Ih",
        "colab_type": "code",
        "outputId": "e5b86020-ed15-4e33-dfe1-36cefb313794",
        "colab": {
          "base_uri": "https://localhost:8080/",
          "height": 777
        }
      },
      "source": [
        "########################### Confusion Matrix  ##################################\n",
        "\n",
        "import matplotlib.pyplot as plt\n",
        "from sklearn.metrics import plot_confusion_matrix\n",
        "from matplotlib.pyplot import figure\n",
        "\n",
        "np.set_printoptions(precision=2)\n",
        "class_names = ['B_SPOTS','HEALTHY','L_BLIGHT','T_MOSAIC','S_SPOTS']\n",
        "classifier.fit(X_train,y_train)\n",
        "y_pred = classifier.predict(X_test)\n",
        "y_true = y_test\n",
        "# Plot non-normalized confusion matrix\n",
        "titles_options = [(\"Confusion matrix, without normalization\", None),\n",
        "                  (\"Normalized confusion matrix\", 'true')]\n",
        "label = [-2,-1,0,1,2]\n",
        "for title, normalize in titles_options:\n",
        "    disp = plot_confusion_matrix(classifier, X_test, y_test,\n",
        "                                 display_labels=label,\n",
        "                                 cmap=plt.cm.Blues,\n",
        "                                 normalize=normalize)\n",
        "    disp.ax_.set_title(title)\n",
        "    # print(title)\n",
        "    # print(disp.confusion_matrix)\n",
        "\n",
        "\n",
        "fig = plt.gcf()\n",
        "plt.show()\n",
        "#fig.savefig('conf_matrix_norm2.png',dpi = 100)\n",
        "print(classification_report(y_true, y_pred, digits=3))"
      ],
      "execution_count": 0,
      "outputs": [
        {
          "output_type": "display_data",
          "data": {
            "image/png": "[encoded data removed]",
            "text/plain": [
              "<Figure size 432x288 with 2 Axes>"
            ]
          },
          "metadata": {
            "tags": [],
            "needs_background": "light"
          }
        },
        {
          "output_type": "display_data",
          "data": {
            "image/png": "[encoded data removed]",
            "text/plain": [
              "<Figure size 432x288 with 2 Axes>"
            ]
          },
          "metadata": {
            "tags": [],
            "needs_background": "light"
          }
        },
        {
          "output_type": "stream",
          "text": [
            "              precision    recall  f1-score   support\n",
            "\n",
            "        -2.0      0.947     1.000     0.973        18\n",
            "        -1.0      1.000     0.944     0.971        18\n",
            "         0.0      0.947     1.000     0.973        18\n",
            "         1.0      1.000     0.944     0.971        18\n",
            "         2.0      0.944     0.944     0.944        18\n",
            "\n",
            "    accuracy                          0.967        90\n",
            "   macro avg      0.968     0.967     0.967        90\n",
            "weighted avg      0.968     0.967     0.967        90\n",
            "\n"
          ],
          "name": "stdout"
        }
      ]
    }
  ]
}